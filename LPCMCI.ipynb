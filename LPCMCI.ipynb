{
 "cells": [
  {
   "cell_type": "code",
   "execution_count": 1,
   "id": "a4d4f589",
   "metadata": {},
   "outputs": [
    {
     "name": "stderr",
     "output_type": "stream",
     "text": [
      "/Users/Rebecca/anaconda/envs/py39/lib/python3.9/site-packages/tigramite/plotting.py:26: UserWarning: [Errno 2] No such file or directory: '../versions.py'\n",
      "  warnings.warn(str(e))\n",
      "/Users/Rebecca/anaconda/envs/py39/lib/python3.9/site-packages/tigramite/independence_tests/gpdc.py:27: UserWarning: [Errno 2] No such file or directory: '../versions.py'\n",
      "  warnings.warn(str(e))\n",
      "/Users/Rebecca/anaconda/envs/py39/lib/python3.9/site-packages/tigramite/independence_tests/gpdc_torch.py:33: UserWarning: No module named 'torch'\n",
      "  warnings.warn(str(e))\n"
     ]
    }
   ],
   "source": [
    "#import tigramite.independence_tests as it\n",
    "#import tigramite.lpcmci as tg\n",
    "import pandas as pd\n",
    "import networkx as nx\n",
    "#import importlib\n",
    "#importlib.reload(tp)\n",
    "\n",
    "import numpy as np\n",
    "\n",
    "from matplotlib import pyplot as plt\n",
    "%matplotlib inline     \n",
    "\n",
    "import tigramite\n",
    "from tigramite import data_processing as dp #pp\n",
    "#from tigramite.toymodels import structural_causal_processes as toys\n",
    "from tigramite import plotting as tp\n",
    "from tigramite.lpcmci import LPCMCI\n",
    "from tigramite.pcmci import PCMCI\n",
    "from tigramite.independence_tests import CMIknn, GPDC #, GPDC, ParCorr, CMIsymb\n",
    "\n",
    "import time\n",
    "import dcor\n",
    "from sklearn import gaussian_process\n",
    "\n",
    "import pickle\n",
    "import xarray as xr"
   ]
  },
  {
   "cell_type": "code",
   "execution_count": null,
   "id": "4672bbd1",
   "metadata": {},
   "outputs": [],
   "source": [
    "import inspect\n",
    "inspect.signature(CMIknn)"
   ]
  },
  {
   "cell_type": "code",
   "execution_count": null,
   "id": "ae9f997e",
   "metadata": {},
   "outputs": [],
   "source": [
    "import sys\n",
    "sys.path"
   ]
  },
  {
   "cell_type": "code",
   "execution_count": null,
   "id": "24a3ccd4",
   "metadata": {},
   "outputs": [],
   "source": [
    "ls"
   ]
  },
  {
   "cell_type": "code",
   "execution_count": 2,
   "id": "854261a7",
   "metadata": {},
   "outputs": [],
   "source": [
    "fname = '~/Documents/MATLAB/MMM_Analysis/data/LPCMCI/csv/AWI_AWI-CM-1-1-MR_r1i1p1f1-TT.csv'\n",
    "df = pd.read_csv (fname)\n",
    "df.pop('SB')\n",
    "df.pop('IN')\n",
    "df.pop('Ph')\n",
    "df.pop('L')\n",
    "df_full = df.copy()\n",
    "df_full_tg = dp.DataFrame(df.values, var_names = df.columns)\n",
    "df.pop('GT')\n",
    "df_tg = dp.DataFrame(df.values, var_names = df.columns)"
   ]
  },
  {
   "cell_type": "code",
   "execution_count": null,
   "id": "7a41c572",
   "metadata": {},
   "outputs": [],
   "source": [
    "IT = CMIknn(knn=0.2, shuffle_neighbors=8)#GPDC(significance='analytic')#\n",
    "M = LPCMCI(df_tg, IT, verbosity=1)\n",
    "M_full = LPCMCI(df_full_tg, IT, verbosity = 1)"
   ]
  },
  {
   "cell_type": "code",
   "execution_count": null,
   "id": "ae4a3a5c",
   "metadata": {},
   "outputs": [],
   "source": [
    "t1 = time.time()\n",
    "G_full = M_full.run_lpcmci(tau_max=5,n_preliminary_iterations=2)#tau_max=5, \n",
    "t2 = time.time()\n",
    "elapsed = (t2-t1)/3600 #in hours\n",
    "elapsed"
   ]
  },
  {
   "cell_type": "code",
   "execution_count": null,
   "id": "060b0153",
   "metadata": {},
   "outputs": [],
   "source": [
    "t1 = time.time()\n",
    "G_no_GT = M.run_lpcmci()#tau_max=1, n_preliminary_iterations=2)#)\n",
    "t2 = time.time()\n",
    "elapsed = (t2-t1)/3600 #in hours\n",
    "elapsed"
   ]
  },
  {
   "cell_type": "code",
   "execution_count": null,
   "id": "ceef2930",
   "metadata": {},
   "outputs": [],
   "source": [
    "elapsed"
   ]
  },
  {
   "cell_type": "code",
   "execution_count": null,
   "id": "79343c0d",
   "metadata": {},
   "outputs": [],
   "source": [
    "[b for b in df_full_tg.var_names[:-1] if not b in ['EN', 'AMM', 'GG']]\n"
   ]
  },
  {
   "cell_type": "code",
   "execution_count": null,
   "id": "736493bd",
   "metadata": {},
   "outputs": [],
   "source": [
    "seasons = {\n",
    "    'W':['EN'],\n",
    "    'Sp': ['GG', 'AMM'],\n",
    "    'Su': [b for b in df_full_tg.var_names[:-1] if not b in ['EN', 'AMM', 'GG']]\n",
    "}\n",
    "seasons"
   ]
  },
  {
   "cell_type": "code",
   "execution_count": null,
   "id": "9942e039",
   "metadata": {},
   "outputs": [],
   "source": [
    "def edge(a,b,t):\n",
    "    return (a, b, t)\n",
    "\n",
    "def get_edge_and_val(edges_dict, i, e):\n",
    "    return edges_dict.get(e[0]).get(e[1])[i][e[2]]\n",
    "\n",
    "def get_edge(edges_dict, e):\n",
    "    return get_edge_and_val(edges_dict,0,e)\n",
    "\n",
    "def get_val(edges_dict, e):\n",
    "    return get_edge_and_val(edges_dict,1,e)\n",
    "\n",
    "def make_edges_dict(G, vals, V):\n",
    "    return {\n",
    "        V[i]:{\n",
    "            V[j]:(G[i][j], vals[i][j]) for j in range(len(V))\n",
    "        } for i in range(len(V))\n",
    "    }\n",
    "\n",
    "def make_score_dict(V):\n",
    "    return {\n",
    "        V[i]:{\n",
    "            #anc, desc, conf\n",
    "            V[j]:np.array([0,0,0]) for j in range(len(V))\n",
    "        } for i in range(len(V))\n",
    "    }\n",
    "\n",
    "def get_score(score_dict, e):\n",
    "    return score_dict.get(e[0]).get(e[1])[e[2]]\n",
    "\n",
    "edge_points = {\n",
    "    '-->':np.array([1,0,0]),\n",
    "    '<--':np.array([0,1,0]),\n",
    "    '<->':np.array([0,0,1]),\n",
    "    'o->':np.array([2/3,0,1/3]),\n",
    "    '<-o':np.array([0,2/3,1/3]),\n",
    "    'o-o':np.array([1/3,1/3,1/3]),\n",
    "    '':np.array([0,0,0])\n",
    "}\n",
    "\n",
    "#edges#{e:get_val(edges,e) for e in forbidden_edges}"
   ]
  },
  {
   "cell_type": "code",
   "execution_count": null,
   "id": "fed71511",
   "metadata": {},
   "outputs": [],
   "source": [
    "seasons = {\n",
    "    'W':['EN'],\n",
    "    'Sp': ['GG', 'AMM'],\n",
    "    'Su': [b for b in df_full_tg.var_names[:-1] if not b in ['EN', 'AMM', 'GG']]\n",
    "}\n",
    "\n",
    "edge_scores = make_score_dict(df_full_tg.var_names[:-1])\n",
    "\n",
    "forbidden_edges = [\n",
    "    edge(a,b,0) for b in (seasons.get('Sp')+seasons.get('W')) for a in seasons.get('Su')] + [\n",
    "    edge(a,b,0) for b in seasons.get('W') for a in seasons.get('Sp')\n",
    "]\n",
    "expected_edges = [\n",
    "    edge('EN', 'Pc', 0), edge('Pc', 'EN', 1), #Pacific\n",
    "    edge('GG', 'SA', 0), edge('SA', 'GG', 1), #South Atlantic\n",
    "    edge('AMM', 'TA', 0), edge('TA', 'AMM', 1), #Tropical Atlantic\n",
    "] + [edge(s, 'GT', 0) for s in ['Pc', 'SA', 'TA', 'SB', 'IN', 'Ph', 'L'] if s in seasons.get('Su')]\n",
    "all_edges = [edge(a,b,i) for i in [0,1] for b in df_full_tg.var_names[:-1] for a in df_full_tg.var_names[:-1]]\n",
    "\n",
    "Adj"
   ]
  },
  {
   "cell_type": "code",
   "execution_count": null,
   "id": "17c23762",
   "metadata": {},
   "outputs": [],
   "source": [
    "Adj = {e:np.array([0,0,0]) for e in all_edges}\n",
    "n=0\n",
    "edges = make_edges_dict(G_full['graph'], G_full['val_matrix'], df_full_tg.var_names[:-1])\n",
    "if not '-->' in [get_edge(edges,e) for e in forbidden_edges]: #only completely directed edges are obviously non-physical\n",
    "    if not any(['x' in get_edge(edges, e) for e in all_edges]):\n",
    "        for e in all_edges:\n",
    "            Adj.update({e:Adj.get(e)+edge_points.get(get_edge(edges, e))})\n",
    "        n=n+1\n",
    "Adj.update({e:Adj.get(e)/n for e in all_edges})\n",
    "(Adj.get(expected_edges[3])+np.array([0,0,.1]))*np.array([0,1,1])+np.array([1,0,0])"
   ]
  },
  {
   "cell_type": "code",
   "execution_count": null,
   "id": "0df5006e",
   "metadata": {},
   "outputs": [],
   "source": [
    "sum(sum(np.array([Adj.get(e) for e in all_edges])))"
   ]
  },
  {
   "cell_type": "code",
   "execution_count": null,
   "id": "fd4adf3a",
   "metadata": {},
   "outputs": [],
   "source": [
    "[get_edge(edges,e) for e in expected_edges]+[get_edge(edges, edge('EN', 'Pc', 1))] \n",
    "#all edges that could include a direct causal relationship should be concluded"
   ]
  },
  {
   "cell_type": "code",
   "execution_count": null,
   "id": "c9481a26",
   "metadata": {},
   "outputs": [],
   "source": [
    "np.array([1,0,0])+np.array([0,1,.3])"
   ]
  },
  {
   "cell_type": "code",
   "execution_count": null,
   "id": "be7a9133",
   "metadata": {},
   "outputs": [],
   "source": [
    "#An edge structure will be the first\n",
    "forbidden_edges = [\n",
    "    (a, b, 0) for b in (seasons.get('Sp')+seasons.get('W')) for a in seasons.get('Su')\n",
    "] + [\n",
    "    (a, b, 0) for b in seasons.get('W') for a in seasons.get('Sp')\n",
    "]"
   ]
  },
  {
   "cell_type": "code",
   "execution_count": null,
   "id": "e69f9703",
   "metadata": {},
   "outputs": [],
   "source": [
    "'-->' in [get_edge(edges,e) for e in forbidden_edges]"
   ]
  },
  {
   "cell_type": "code",
   "execution_count": null,
   "id": "c36cf344",
   "metadata": {},
   "outputs": [],
   "source": [
    "expected_edges = [\n",
    "    ('')\n",
    "]"
   ]
  },
  {
   "cell_type": "markdown",
   "id": "0683ea38",
   "metadata": {},
   "source": [
    "tp.plot_graph(G['graph'], val_matrix=G['val_matrix'], var_names=df.columns, node_pos={'x':[4,2,3,5,1,2,3,1], 'y':[3,3,3,3,3,2,2,1]})"
   ]
  },
  {
   "cell_type": "code",
   "execution_count": null,
   "id": "af226bbf",
   "metadata": {},
   "outputs": [],
   "source": [
    "x = [1,3,2,1,3,4,2.3,2,5,2]#,1[1,6,5,1,6,7,5,2,3,4,8]\n",
    "L = len(x[3:])-2\n",
    "x_end = [i-(L+1)/2 for i in x[3:]]\n",
    "r = L\n",
    "y_end = [((r**2-i**2)**.5 - r) for i in x_end]\n",
    "y = np.array([3,2,2]+y_end)\n",
    "y[-3] = -1\n",
    "y[-1] = -2\n",
    "#y[np.where((df.columns=='IN')|(df.columns=='L'))[0]]=y[np.where((df.columns=='IN')|(df.columns=='L'))[0]]+.5"
   ]
  },
  {
   "cell_type": "code",
   "execution_count": null,
   "id": "22189fd6",
   "metadata": {},
   "outputs": [],
   "source": [
    "df_full_tg.var_names[:-1]\n"
   ]
  },
  {
   "cell_type": "code",
   "execution_count": null,
   "id": "15a17edd",
   "metadata": {},
   "outputs": [],
   "source": [
    "#outside for loop\n",
    "x_vals = {'NA':4, 'md':5}\n",
    "x_vals.update(dict.fromkeys(['EN', 'Pc'],1)) #Pacific, Winter and Summer\n",
    "x_vals.update(dict.fromkeys(['GG', 'SA'],2)) #South Atlantic, Spring and Summer\n",
    "x_vals.update(dict.fromkeys(['AMM', 'TA'],3)) #Tropical Atlantic, Spring and Summer\n",
    "x_vals.update(dict.fromkeys(['GT', 'pr'],2)) #extras\n",
    "EXTRA = ['SB', 'IN', 'Ph', 'L'] #usually not included\n",
    "x_vals.update({EXTRA[i]:(i+6) for i in range(len(EXTRA))})\n",
    "y_vals = {'EN':5.5, 'GT':2, 'pr':1} #Winter and extras\n",
    "y_vals.update(dict.fromkeys(seasons.get('Sp'),4.5)) #Spring\n",
    "su_basins_full = ['Pc', 'SA', 'TA', 'NA', 'md', 'SB', 'IN', 'Ph', 'L']\n",
    "#inside for loop\n",
    "su_basins = [vn for vn in su_basins_full if vn in df_full_tg.var_names[:-1]]\n",
    "r = len(su_basins)\n",
    "y_vals.update({b:((r**2-(x_vals.get(b)-(r+1)/2)**2)**.5)-np.min([((3*r**2 + 2*r - 1)**.5)/2,r])+3 for b in su_basins})#\n",
    "x = [x_vals.get(vn) for vn in df_full_tg.var_names[:-1]]\n",
    "y = [y_vals.get(vn) for vn in df_full_tg.var_names[:-1]]\n",
    "y"
   ]
  },
  {
   "cell_type": "code",
   "execution_count": null,
   "id": "e1120247",
   "metadata": {},
   "outputs": [],
   "source": [
    "su_basins_full = ['Pc', 'SA', 'TA', 'NA', 'md', 'SB', 'IN', 'Ph', 'L']\n"
   ]
  },
  {
   "cell_type": "code",
   "execution_count": null,
   "id": "166d7715",
   "metadata": {},
   "outputs": [],
   "source": [
    "model = 'TaiESM1'\n",
    "P=tp.plot_graph(G_full['graph'], val_matrix=G_full['val_matrix'], var_names=df_full_tg.var_names[:-1], node_pos={'x':x, 'y':list(y)})#, arrow_linewidth=7)model = fname.replace('.','_').split('_')[3]\n",
    "P[0].suptitle(model)\n",
    "P[0].set_facecolor('lightgray')"
   ]
  },
  {
   "cell_type": "code",
   "execution_count": null,
   "id": "0dfc145d",
   "metadata": {},
   "outputs": [],
   "source": [
    "var = 'ts_pr'\n",
    "knn = 2\n",
    "p=1\n",
    "tm = 1\n",
    "SN=8\n",
    "fn = model+'_'+var+'_SN'+str(SN)+'_knn'+str(knn)+'_p'+str(p)+'_tm'+str(tm)\n",
    "P[0].savefig('Documents/MATLAB/MMM_Analysis/figures/LPCMCI/'+fn+'.png')\n",
    "\n",
    "\n",
    "#new_name = 'Documents/MATLAB/MMM_Analysis/figures/LPCMCI/'+model+'_ts_SN8_knn1.png'\n",
    "#P[0].savefig(new_name)"
   ]
  },
  {
   "cell_type": "code",
   "execution_count": null,
   "id": "88f6a94c",
   "metadata": {},
   "outputs": [],
   "source": [
    "df_full_tg.var_names"
   ]
  },
  {
   "cell_type": "code",
   "execution_count": null,
   "id": "90f43870",
   "metadata": {},
   "outputs": [],
   "source": []
  },
  {
   "cell_type": "code",
   "execution_count": null,
   "id": "8f155d28",
   "metadata": {},
   "outputs": [],
   "source": [
    "#the edge will always be (r-1)/2. \n"
   ]
  },
  {
   "cell_type": "code",
   "execution_count": null,
   "id": "f8492ab9",
   "metadata": {},
   "outputs": [],
   "source": [
    "L/2"
   ]
  },
  {
   "cell_type": "code",
   "execution_count": null,
   "id": "fe029b13",
   "metadata": {},
   "outputs": [],
   "source": [
    "df_full"
   ]
  },
  {
   "cell_type": "code",
   "execution_count": null,
   "id": "4f042e28",
   "metadata": {},
   "outputs": [],
   "source": [
    "import pickle\n",
    "fl = open('Documents/MATLAB/MMM_Analysis/data/LPCMCI_graphs/'+fn+'.pkl', 'wb')\n",
    "pickle.dump(G_full, fl)\n",
    "fl.close()"
   ]
  },
  {
   "cell_type": "code",
   "execution_count": null,
   "id": "dfd70859",
   "metadata": {},
   "outputs": [],
   "source": [
    "ls Documents/MATLAB/MMM_Analysis/data/LPCMCI_graphs/"
   ]
  },
  {
   "cell_type": "code",
   "execution_count": null,
   "id": "e7a963bb",
   "metadata": {},
   "outputs": [],
   "source": [
    "fl = open('Documents/MATLAB/MMM_Analysis/figures/LPCMCI/Ginsburg/scores.pkl', 'rb')\n",
    "scores = pickle.load(fl)\n",
    "fl.close()\n",
    "scores"
   ]
  },
  {
   "cell_type": "code",
   "execution_count": null,
   "id": "dd31546e",
   "metadata": {},
   "outputs": [],
   "source": [
    "scores.loc[(scores.index.get_level_values('p')=='1') & \n",
    "           (scores.index.get_level_values('tm')=='1') \n",
    "          ]"
   ]
  },
  {
   "cell_type": "code",
   "execution_count": null,
   "id": "8e330a6b",
   "metadata": {},
   "outputs": [],
   "source": [
    "S = xr.Dataset.from_dataframe(scores.droplevel('file')).astype('float')\n",
    "S['strength'].max()"
   ]
  },
  {
   "cell_type": "code",
   "execution_count": 291,
   "id": "959b5e6d",
   "metadata": {},
   "outputs": [
    {
     "data": {
      "text/plain": [
       "4"
      ]
     },
     "execution_count": 291,
     "metadata": {},
     "output_type": "execute_result"
    }
   ],
   "source": [
    "shape='p'\n",
    "S[shape].values.max()"
   ]
  },
  {
   "cell_type": "code",
   "execution_count": 297,
   "id": "f71d2d00",
   "metadata": {},
   "outputs": [
    {
     "data": {
      "text/plain": [
       "((0.35, 0.8), (0.35, 0.8))"
      ]
     },
     "execution_count": 297,
     "metadata": {},
     "output_type": "execute_result"
    },
    {
     "data": {
      "image/png": "[encoded data removed]",
      "text/plain": [
       "<Figure size 864x576 with 2 Axes>"
      ]
     },
     "metadata": {
      "needs_background": "light"
     },
     "output_type": "display_data"
    }
   ],
   "source": [
    "# how do my scores relate to each other? scatter plot with colors. \n",
    "#let's do recall vs robustness with strength as color.\n",
    "#markers = {1:'o', 2:'d', 3:'^', 4:'s'} #or d\n",
    "\n",
    "#there can only be 2 things for edge\n",
    "def pltr(S, x, y, c, shape, edge): \n",
    "    markers = {1:'o', 2:'d', 3:'^', 4:'P', 5:'p', 6:'h', 7:'D', 8:'8', 9:'*', 10:'X'} #or d\n",
    "    sizes = {(i,j):None for i in range(1,S[shape].values.max()+1) for j in range(1,S[edge].values.max()+1)}\n",
    "    sizes.update({(1,1):8})\n",
    "    add_guide = {i:False for i in range(2,max([S[shape].values.max(), S[edge].values.max()])+1)}\n",
    "    add_guide.update({1:True})\n",
    "    edge_colors = {1:'none', 2:'k'}\n",
    "    for p in S[shape].values:\n",
    "        for t in S[edge].values:\n",
    "            S.isel({\n",
    "                shape: S[shape]==p,\n",
    "                edge:  S[edge]==t\n",
    "            }).plot.scatter(\n",
    "                x, y, hue=c, marker=markers.get(p), edgecolors=edge_colors.get(t),\n",
    "                vmin=S[c].min(), vmax=S[c].max(), add_guide=add_guide.get(p)&add_guide.get(t), \n",
    "                alpha=.7, size=sizes.get((p,t))#, markersize='tm'\n",
    "            )\n",
    "    \n",
    "pltr(S, 'recall', 'robustness', 'strength', 'p', 'tm')\n",
    "plt.ylim([.35,.8]), plt.xlim([.35,.8])\n",
    "\n",
    "#robustness and recall are highly corrolated. \n",
    "#But sometimes a boost to \"robust\" edges does overcome losses to recall of expected edges.\n",
    "#The strength of expected edges is non-linearly related to recall and robustness.\n",
    "#When tau_max=2 (black edges), recall tends to be lower (but one works well)\n",
    "#For tau_max=1, increasing p can hurt or help (the only recall values between .6 and the max have p=1)\n",
    "#For tau_max=2, it always helps, and p=4 gives a huge improvement over p=3\n"
   ]
  },
  {
   "cell_type": "code",
   "execution_count": 299,
   "id": "ae9ae321",
   "metadata": {},
   "outputs": [
    {
     "data": {
      "text/plain": [
       "((0.05, 0.35), (0.5, 0.8))"
      ]
     },
     "execution_count": 299,
     "metadata": {},
     "output_type": "execute_result"
    },
    {
     "data": {
      "image/png": "[encoded data removed]",
      "text/plain": [
       "<Figure size 864x576 with 2 Axes>"
      ]
     },
     "metadata": {
      "needs_background": "light"
     },
     "output_type": "display_data"
    }
   ],
   "source": [
    "pltr(S, 'robustness', 'strength', 'recall', 'p', 'tm')\n",
    "plt.ylim([.05,.35]), plt.xlim([.5,.8])\n",
    "\n",
    "#recall tracks robustenss\n",
    "#for tm=1, robustness and strength are non-linearly related; for tm=2, they are inversely related. \n",
    "#for both tm, strength is highest when p is low. \n",
    "#for tm=1, more preliminary iterations doesn't necessarily help (I'm not looking here at the CMIknn values....)\n",
    "#for tm=2, it always helps."
   ]
  },
  {
   "cell_type": "code",
   "execution_count": 376,
   "id": "3f50a5cb",
   "metadata": {},
   "outputs": [
    {
     "data": {
      "image/png": "[encoded data removed]",
      "text/plain": [
       "<Figure size 432x288 with 3 Axes>"
      ]
     },
     "metadata": {
      "needs_background": "light"
     },
     "output_type": "display_data"
    }
   ],
   "source": [
    "def CMIknn_comp(scorer):\n",
    "    fig, ax = plt.subplots(1, 2, sharex='all', sharey='all')\n",
    "    ts = S['tm'].values\n",
    "    acb = {1:False, 2:True}\n",
    "    for t in range(len(ts)):\n",
    "        im = scorer.isel({\n",
    "            'tm':   S['tm']==ts[t],\n",
    "        }).mean(['p', 'tm']).plot(\n",
    "            ax=ax[t], \n",
    "            vmin=(scorer>0).mean(['p']).min(), \n",
    "            vmax=(scorer>0).mean(['p']).max(),\n",
    "            add_colorbar=False\n",
    "        )  \n",
    "    cbar_ax = fig.add_axes([1, 0.15, 0.05, .75])\n",
    "    fig.colorbar(im, cax=cbar_ax)\n",
    "    \n",
    "CMIknn_comp(S['recall']>0)\n",
    "#this graph shows the non-linear compensation between knn and SN, which could be expected!"
   ]
  },
  {
   "cell_type": "code",
   "execution_count": 377,
   "id": "160280be",
   "metadata": {},
   "outputs": [
    {
     "data": {
      "image/png": "[encoded data removed]",
      "text/plain": [
       "<Figure size 432x288 with 3 Axes>"
      ]
     },
     "metadata": {
      "needs_background": "light"
     },
     "output_type": "display_data"
    }
   ],
   "source": [
    "CMIknn_comp(S['recall'])\n",
    "#recall and robustenss are better when both values are higher.\n",
    "#because this maximizes at the top of the range, \n",
    "#it would seem it's possible that we should try larger values of knn and SN"
   ]
  },
  {
   "cell_type": "code",
   "execution_count": 378,
   "id": "529343a3",
   "metadata": {},
   "outputs": [
    {
     "data": {
      "image/png": "[encoded data removed]",
      "text/plain": [
       "<Figure size 432x288 with 3 Axes>"
      ]
     },
     "metadata": {
      "needs_background": "light"
     },
     "output_type": "display_data"
    }
   ],
   "source": [
    "CMIknn_comp(S['robustness'])\n",
    "#our metric prefers larger SN and knn. \n",
    "#larger SN decreases the size of the null distribution, increasing detection power (and false positives)\n",
    "#larger knn reduces variance but increases bias."
   ]
  },
  {
   "cell_type": "code",
   "execution_count": null,
   "id": "100323b2",
   "metadata": {},
   "outputs": [],
   "source": [
    "#p=2, knn=.2\n",
    "#knn=.1 and SN=7, knn=.15 and SN=8, knn=.2 and SN=9,10\n",
    "#p=1,2 and SN=7...10, p=3,4 and SN=10\n",
    "\n",
    "#the summary of these things is p=2, knn=.2, SN=9,10\n",
    "#This is not the graph with the best score, but maybe our scoring isn't the greatest. "
   ]
  },
  {
   "cell_type": "code",
   "execution_count": null,
   "id": "c972f0ae",
   "metadata": {},
   "outputs": [],
   "source": [
    "G_full = {'graph': np.array([[['', ''],\n",
    "         ['', ''],\n",
    "         ['', ''],\n",
    "         ['-->', 'o->'],\n",
    "         ['', ''],\n",
    "         ['', ''],\n",
    "         ['', ''],\n",
    "         ['', ''],\n",
    "         ['', '']],\n",
    " \n",
    "        [['', '-->'],\n",
    "         ['', ''],\n",
    "         ['', ''],\n",
    "         ['', ''],\n",
    "         ['-->', ''],\n",
    "         ['', ''],\n",
    "         ['', ''],\n",
    "         ['-->', ''],\n",
    "         ['', '']],\n",
    " \n",
    "        [['', ''],\n",
    "         ['', ''],\n",
    "         ['', ''],\n",
    "         ['', ''],\n",
    "         ['', ''],\n",
    "         ['', ''],\n",
    "         ['-->', ''],\n",
    "         ['', ''],\n",
    "         ['', '']],\n",
    " \n",
    "        [['<--', '-->'],\n",
    "         ['', '-->'],\n",
    "         ['', '-->'],\n",
    "         ['', ''],\n",
    "         ['', ''],\n",
    "         ['<--', ''],\n",
    "         ['', ''],\n",
    "         ['-->', '-->'],\n",
    "         ['', '']],\n",
    " \n",
    "        [['', ''],\n",
    "         ['<--', '-->'],\n",
    "         ['', ''],\n",
    "         ['', ''],\n",
    "         ['', ''],\n",
    "         ['-->', ''],\n",
    "         ['', ''],\n",
    "         ['', ''],\n",
    "         ['', '']],\n",
    " \n",
    "        [['', ''],\n",
    "         ['', ''],\n",
    "         ['', '-->'],\n",
    "         ['-->', ''],\n",
    "         ['<--', ''],\n",
    "         ['', ''],\n",
    "         ['', ''],\n",
    "         ['', ''],\n",
    "         ['', '']],\n",
    " \n",
    "        [['', ''],\n",
    "         ['', ''],\n",
    "         ['<--', ''],\n",
    "         ['', ''],\n",
    "         ['', ''],\n",
    "         ['', ''],\n",
    "         ['', ''],\n",
    "         ['-->', ''],\n",
    "         ['', '']],\n",
    " \n",
    "        [['', ''],\n",
    "         ['<--', ''],\n",
    "         ['', ''],\n",
    "         ['<--', ''],\n",
    "         ['', ''],\n",
    "         ['', ''],\n",
    "         ['<--', ''],\n",
    "         ['', ''],\n",
    "         ['', '']],\n",
    " \n",
    "        [['', ''],\n",
    "         ['', ''],\n",
    "         ['', ''],\n",
    "         ['', ''],\n",
    "         ['', ''],\n",
    "         ['', ''],\n",
    "         ['', ''],\n",
    "         ['', ''],\n",
    "         ['', '']]], dtype='<U3'),\n",
    " 'p_matrix': np.array([[[0.   , 0.07 ],\n",
    "         [0.053, 0.11 ],\n",
    "         [0.514, 0.078],\n",
    "         [0.   , 0.033],\n",
    "         [0.221, 0.628],\n",
    "         [0.596, 0.204],\n",
    "         [0.593, 0.803],\n",
    "         [0.178, 0.094],\n",
    "         [0.957, 0.976]],\n",
    " \n",
    "        [[0.053, 0.012],\n",
    "         [0.   , 0.893],\n",
    "         [0.071, 0.081],\n",
    "         [0.111, 0.132],\n",
    "         [0.   , 0.141],\n",
    "         [0.366, 0.192],\n",
    "         [0.835, 0.8  ],\n",
    "         [0.003, 0.768],\n",
    "         [0.876, 0.44 ]],\n",
    " \n",
    "        [[0.514, 0.914],\n",
    "         [0.071, 0.655],\n",
    "         [0.   , 0.353],\n",
    "         [0.064, 0.356],\n",
    "         [0.174, 0.178],\n",
    "         [0.23 , 0.52 ],\n",
    "         [0.   , 0.513],\n",
    "         [0.104, 0.465],\n",
    "         [0.738, 0.697]],\n",
    " \n",
    "        [[0.   , 0.   ],\n",
    "         [0.111, 0.   ],\n",
    "         [0.064, 0.   ],\n",
    "         [0.   , 0.522],\n",
    "         [0.054, 0.813],\n",
    "         [0.038, 0.156],\n",
    "         [0.056, 0.519],\n",
    "         [0.   , 0.   ],\n",
    "         [0.293, 0.938]],\n",
    " \n",
    "        [[0.221, 0.196],\n",
    "         [0.   , 0.031],\n",
    "         [0.174, 0.523],\n",
    "         [0.054, 0.053],\n",
    "         [0.   , 0.91 ],\n",
    "         [0.   , 0.479],\n",
    "         [0.863, 0.485],\n",
    "         [0.498, 0.435],\n",
    "         [0.818, 0.937]],\n",
    " \n",
    "        [[0.596, 0.894],\n",
    "         [0.366, 0.507],\n",
    "         [0.23 , 0.035],\n",
    "         [0.038, 0.685],\n",
    "         [0.   , 0.435],\n",
    "         [0.   , 0.659],\n",
    "         [0.794, 0.649],\n",
    "         [0.607, 0.376],\n",
    "         [0.11 , 0.667]],\n",
    " \n",
    "        [[0.593, 0.452],\n",
    "         [0.835, 0.956],\n",
    "         [0.   , 0.433],\n",
    "         [0.056, 0.146],\n",
    "         [0.863, 0.51 ],\n",
    "         [0.794, 0.374],\n",
    "         [0.   , 0.324],\n",
    "         [0.022, 0.35 ],\n",
    "         [0.529, 0.108]],\n",
    " \n",
    "        [[0.178, 1.   ],\n",
    "         [0.003, 0.361],\n",
    "         [0.104, 0.104],\n",
    "         [0.   , 0.086],\n",
    "         [0.498, 0.754],\n",
    "         [0.607, 0.492],\n",
    "         [0.022, 0.657],\n",
    "         [0.   , 0.081],\n",
    "         [0.497, 0.936]],\n",
    " \n",
    "        [[0.957, 0.294],\n",
    "         [0.876, 0.457],\n",
    "         [0.738, 0.349],\n",
    "         [0.293, 0.66 ],\n",
    "         [0.818, 0.546],\n",
    "         [0.11 , 0.586],\n",
    "         [0.529, 0.106],\n",
    "         [0.497, 0.105],\n",
    "         [0.   , 0.168]]]),\n",
    " 'val_matrix': np.array([[[ 0.00000000e+00,  6.38257999e-03],\n",
    "         [ 1.50415906e-02,  7.49977554e-03],\n",
    "         [ 7.13040664e-03,  1.06698097e-02],\n",
    "         [ 4.11681685e-02,  1.64656182e-02],\n",
    "         [ 8.04975329e-03,  5.51587226e-03],\n",
    "         [ 5.59385173e-03,  7.94397708e-03],\n",
    "         [ 5.37395187e-03, -4.06633589e-04],\n",
    "         [ 1.62291832e-02,  9.66963763e-03],\n",
    "         [ 4.56501052e-03, -2.93349053e-03]],\n",
    " \n",
    "        [[ 1.50415906e-02,  6.82307037e-03],\n",
    "         [ 0.00000000e+00,  2.90596512e-03],\n",
    "         [ 1.69266090e-02,  9.79603241e-03],\n",
    "         [ 7.83571543e-03,  9.16411919e-03],\n",
    "         [ 4.82437360e-01,  7.76573517e-03],\n",
    "         [ 4.06520370e-03,  7.01650885e-03],\n",
    "         [ 3.88417756e-03,  2.07394685e-03],\n",
    "         [ 1.36566212e-02,  2.16192041e-03],\n",
    "         [ 2.29907341e-04,  4.76156070e-03]],\n",
    " \n",
    "        [[ 7.13040664e-03,  2.60797403e-03],\n",
    "         [ 1.69266090e-02,  2.38568954e-03],\n",
    "         [ 0.00000000e+00,  6.56734606e-03],\n",
    "         [ 1.03562453e-02,  5.12710949e-03],\n",
    "         [ 5.11015699e-03,  7.88034539e-03],\n",
    "         [ 7.84419144e-03,  5.96784393e-03],\n",
    "         [ 5.89045847e-01,  3.55880506e-03],\n",
    "         [ 8.89136261e-03,  5.24240093e-03],\n",
    "         [ 1.73865841e-03,  2.28650627e-03]],\n",
    " \n",
    "        [[ 4.11681685e-02,  7.43847487e-01],\n",
    "         [ 7.83571543e-03,  2.39178245e-01],\n",
    "         [ 1.03562453e-02,  1.28658769e-01],\n",
    "         [ 0.00000000e+00,  5.16665811e-03],\n",
    "         [ 9.14253868e-03,  1.35385494e-03],\n",
    "         [ 1.47511935e-02,  9.59318145e-03],\n",
    "         [ 9.86489132e-03,  5.71837825e-03],\n",
    "         [ 2.22221410e-01,  1.12686493e-01],\n",
    "         [ 7.69977015e-03,  2.93486928e-04]],\n",
    " \n",
    "        [[ 8.04975329e-03,  5.71581857e-03],\n",
    "         [ 4.82437360e-01,  1.33960567e-02],\n",
    "         [ 5.11015699e-03,  4.21311745e-03],\n",
    "         [ 9.14253868e-03,  1.18120240e-02],\n",
    "         [ 0.00000000e+00,  1.86880689e-03],\n",
    "         [ 6.55839024e-02,  5.51875548e-03],\n",
    "         [ 2.62670863e-03,  5.55085065e-03],\n",
    "         [ 6.93814427e-03,  6.36322812e-03],\n",
    "         [ 1.03203393e-03,  3.42469469e-04]],\n",
    " \n",
    "        [[ 5.59385173e-03,  1.63093948e-03],\n",
    "         [ 4.06520370e-03,  4.06725967e-03],\n",
    "         [ 7.84419144e-03,  1.40776094e-02],\n",
    "         [ 1.47511935e-02,  4.25064890e-03],\n",
    "         [ 6.55839024e-02,  5.57895970e-03],\n",
    "         [ 0.00000000e+00,  4.07909645e-03],\n",
    "         [ 3.83367209e-03,  3.56628646e-03],\n",
    "         [ 5.80784167e-03,  5.86403813e-03],\n",
    "         [ 8.96976032e-03,  4.57121494e-03]],\n",
    " \n",
    "        [[ 5.37395187e-03,  4.63495782e-03],\n",
    "         [ 3.88417756e-03, -4.70289533e-04],\n",
    "         [ 5.89045847e-01,  6.76280169e-03],\n",
    "         [ 9.86489132e-03,  1.11601937e-02],\n",
    "         [ 2.62670863e-03,  4.52104449e-03],\n",
    "         [ 3.83367209e-03,  5.81882588e-03],\n",
    "         [ 0.00000000e+00,  4.26218362e-03],\n",
    "         [ 1.49102428e-02,  4.24135801e-03],\n",
    "         [ 3.36738894e-03,  7.70469811e-03]],\n",
    " \n",
    "        [[ 1.62291832e-02, -3.05433864e-02],\n",
    "         [ 1.36566212e-02,  1.28254061e-02],\n",
    "         [ 8.89136261e-03,  9.15702486e-03],\n",
    "         [ 2.22221410e-01,  7.02889883e-03],\n",
    "         [ 6.93814427e-03,  1.12822529e-03],\n",
    "         [ 5.80784167e-03,  4.52462571e-03],\n",
    "         [ 1.49102428e-02,  3.56230969e-03],\n",
    "         [ 0.00000000e+00,  8.14551759e-03],\n",
    "         [ 6.27322883e-03,  4.62186872e-04]],\n",
    " \n",
    "        [[ 4.56501052e-03,  3.50534884e-03],\n",
    "         [ 2.29907341e-04,  4.24048730e-03],\n",
    "         [ 1.73865841e-03,  4.82613850e-03],\n",
    "         [ 7.69977015e-03,  5.64582344e-03],\n",
    "         [ 1.03203393e-03,  5.77830247e-03],\n",
    "         [ 8.96976032e-03,  4.16929778e-03],\n",
    "         [ 3.36738894e-03,  7.71661547e-03],\n",
    "         [ 6.27322883e-03,  6.42499218e-03],\n",
    "         [ 0.00000000e+00,  8.71832378e-03]]])}\n",
    "G_full"
   ]
  }
 ],
 "metadata": {
  "kernelspec": {
   "display_name": "py39",
   "language": "python",
   "name": "py39"
  },
  "language_info": {
   "codemirror_mode": {
    "name": "ipython",
    "version": 3
   },
   "file_extension": ".py",
   "mimetype": "text/x-python",
   "name": "python",
   "nbconvert_exporter": "python",
   "pygments_lexer": "ipython3",
   "version": "3.9.7"
  }
 },
 "nbformat": 4,
 "nbformat_minor": 5
}
