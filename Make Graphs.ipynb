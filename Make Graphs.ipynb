{
 "cells": [
  {
   "cell_type": "code",
   "execution_count": 1,
   "id": "39dc810d",
   "metadata": {},
   "outputs": [
    {
     "data": {
      "text/plain": [
       "<Figure size 1600x1200 with 0 Axes>"
      ]
     },
     "execution_count": 1,
     "metadata": {},
     "output_type": "execute_result"
    },
    {
     "data": {
      "text/plain": [
       "<Figure size 1600x1200 with 0 Axes>"
      ]
     },
     "metadata": {},
     "output_type": "display_data"
    }
   ],
   "source": [
    "import pandas as pd\n",
    "import networkx as nx\n",
    "import numpy as np\n",
    "from matplotlib import pyplot as plt\n",
    "\n",
    "import tigramite\n",
    "from tigramite import data_processing as dp #pp\n",
    "from tigramite import plotting as tp\n",
    "from tigramite.lpcmci import LPCMCI\n",
    "from tigramite.pcmci import PCMCI\n",
    "from tigramite.independence_tests import CMIknn #, GPDC, ParCorr, CMIsymb\n",
    "import time\n",
    "#import dcor\n",
    "#import sklearn\n",
    "import pickle\n",
    "\n",
    "import os\n",
    "\n",
    "from matplotlib.pyplot import figure\n",
    "figure(figsize=(20,15), dpi=80)"
   ]
  },
  {
   "cell_type": "code",
   "execution_count": 11,
   "id": "007d6bbd",
   "metadata": {},
   "outputs": [
    {
     "name": "stdout",
     "output_type": "stream",
     "text": [
      "/Users/Rebecca/Documents/MATLAB/MMM_Analysis/figures/LPCMCI/Ginsburg\n"
     ]
    }
   ],
   "source": [
    "cd ~/Documents/MATLAB/MMM_Analysis/figures/LPCMCI/Ginsburg/"
   ]
  },
  {
   "cell_type": "code",
   "execution_count": 197,
   "id": "12f90bf8",
   "metadata": {},
   "outputs": [
    {
     "name": "stdout",
     "output_type": "stream",
     "text": [
      "CCCma_CanESM5_r1i1p2f1_SN13_knn55_p4_tm1\r\n",
      "CCCma_CanESM5_r1i1p2f1_SN16_knn5_p3_tm1\r\n",
      "CNRM-CERFACS_CNRM-CM6-1_r1i1p1f2-TT_SN19_knn4_p2_tm1\r\n",
      "CNRM-CERFACS_CNRM-CM6-1_r1i1p1f2-TT_SN19_knn4_p3_tm1\r\n",
      "CNRM-CERFACS_CNRM-CM6-1_r1i1p1f2-TT_SN19_knn4_p4_tm1\r\n",
      "CNRM-CERFACS_CNRM-CM6-1_r1i1p1f2-TT_SN20_knn4_p1_tm1\r\n",
      "CNRM-CERFACS_CNRM-CM6-1_r1i1p1f2-TT_SN21_knn4_p1_tm1\r\n",
      "CNRM-CERFACS_CNRM-CM6-1_r1i1p1f2-TT_SN21_knn4_p1_tm1.png\r\n",
      "CNRM-CERFACS_CNRM-CM6-1_r1i1p1f2-TT_SN22_knn4_p2_tm1\r\n",
      "CNRM-CERFACS_CNRM-CM6-1_r1i1p1f2-TT_SN23_knn4_p1_tm1\r\n",
      "CNRM-CERFACS_CNRM-CM6-1_r1i1p1f2-TT_SN24_knn4_p1_tm1\r\n",
      "CNRM-CERFACS_CNRM-CM6-1_r1i1p1f2-TT_SN24_knn4_p3_tm1\r\n",
      "CNRM-CERFACS_CNRM-CM6-1_r1i1p1f2-TT_SN25_knn4_p1_tm1\r\n",
      "IPSL_IPSL-CM6A-LR_r1i1p1f1-TT_SN11_knn3_p2_tm1\r\n",
      "IPSL_IPSL-CM6A-LR_r1i1p1f1-TT_SN11_knn3_p2_tm1.png\r\n",
      "IPSL_IPSL-CM6A-LR_r1i1p1f1-TT_SN12_knn35_p2_tm1\r\n",
      "IPSL_IPSL-CM6A-LR_r1i1p1f1-TT_SN12_knn35_p2_tm1.png\r\n",
      "IPSL_IPSL-CM6A-LR_r1i1p1f1-TT_SN14_knn35_p2_tm1\r\n",
      "IPSL_IPSL-CM6A-LR_r1i1p1f1-TT_SN14_knn35_p2_tm1.png\r\n",
      "MRI_MRI-ESM2-0_r1i1p1f1_SN19_knn2_p4_tm1\r\n",
      "MRI_MRI-ESM2-0_r1i1p1f1_SN19_knn2_p4_tm1.png\r\n",
      "MRI_MRI-ESM2-0_r1i1p1f1_SN25_knn6_p2_tm1\r\n",
      "NCAR_CESM2_r1i1p1f1-TT_SN10_knn3_p3_tm1_not_best\r\n",
      "NCAR_CESM2_r1i1p1f1-TT_SN10_knn3_p4_tm1\r\n",
      "NCAR_CESM2_r1i1p1f1-TT_SN9_knn3_p3_tm1\r\n",
      "NCAR_CESM2_r1i1p1f1-TT_SN9_knn3_p4_tm1\r\n",
      "NCAR_CESM2_r1i1p1f1-TT_SN9_knn3_p4_tm1.png\r\n",
      "NCAR_CESM2_r1i1p1f1_SN21_knn35_p2_tm1\r\n",
      "NCAR_CESM2_r1i1p1f1_SN21_knn35_p2_tm1.png\r\n"
     ]
    }
   ],
   "source": [
    "ls new_bests"
   ]
  },
  {
   "cell_type": "code",
   "execution_count": 230,
   "id": "7cb0c5d2",
   "metadata": {},
   "outputs": [],
   "source": [
    "cm = 'CCCma'\n",
    "fldr = 'new_bests'\n",
    "F = os.listdir(fldr)#'graphs_'+fldr)#'\n",
    "Fi = [f for f in F if (cm in f)and ('-TT' not in f) and ('png' not in f)]"
   ]
  },
  {
   "cell_type": "code",
   "execution_count": 206,
   "id": "45d756ff",
   "metadata": {},
   "outputs": [
    {
     "data": {
      "text/plain": [
       "True"
      ]
     },
     "execution_count": 206,
     "metadata": {},
     "output_type": "execute_result"
    }
   ],
   "source": [
    "Gs = []\n",
    "for i in range(len(Fi)):\n",
    "    fl = open(fldr+'/'+Fi[i], 'rb')#\n",
    "    Gs += [pickle.load(fl)['graph']]\n",
    "    fl.close()\n",
    "(Gs==Gs[1]).all()"
   ]
  },
  {
   "cell_type": "code",
   "execution_count": 231,
   "id": "80bc6881",
   "metadata": {},
   "outputs": [
    {
     "data": {
      "text/plain": [
       "['CCCma_CanESM5_r1i1p2f1_SN13_knn55_p4_tm1',\n",
       " 'CCCma_CanESM5_r1i1p2f1_SN16_knn5_p3_tm1',\n",
       " 'CCCma_CanESM5_r1i1p2f1_SN13_knn55_p4_tm1.png',\n",
       " 'CCCma_CanESM5_r1i1p2f1_SN22_knn15_p2_tm1']"
      ]
     },
     "execution_count": 231,
     "metadata": {},
     "output_type": "execute_result"
    }
   ],
   "source": [
    "F = [f for f in F if (cm in f) and ('-TT' not in f)]# and ('png' in f)]\n",
    "F"
   ]
  },
  {
   "cell_type": "code",
   "execution_count": 232,
   "id": "6ca611ae",
   "metadata": {},
   "outputs": [],
   "source": [
    "i=-1 #1"
   ]
  },
  {
   "cell_type": "code",
   "execution_count": 233,
   "id": "19a2833c",
   "metadata": {},
   "outputs": [],
   "source": [
    "fl = open(fldr+'/'+F[i], 'rb')#[:-4]\n",
    "G = pickle.load(fl)\n",
    "fl.close()"
   ]
  },
  {
   "cell_type": "code",
   "execution_count": 74,
   "id": "d3987b4b",
   "metadata": {},
   "outputs": [
    {
     "data": {
      "text/plain": [
       "Index(['EN', 'AMM', 'GG', 'Pc', 'TA', 'NA', 'SA', 'GT', 'md', 'pr', 'TT'], dtype='object')"
      ]
     },
     "execution_count": 74,
     "metadata": {},
     "output_type": "execute_result"
    }
   ],
   "source": [
    "G['var_names']"
   ]
  },
  {
   "cell_type": "code",
   "execution_count": 75,
   "id": "94def1f9",
   "metadata": {},
   "outputs": [
    {
     "data": {
      "text/plain": [
       "array([['-->', '']], dtype='<U3')"
      ]
     },
     "execution_count": 75,
     "metadata": {},
     "output_type": "execute_result"
    }
   ],
   "source": [
    "G['graph'][G['var_names']=='EN'][0][G['var_names']=='pr']"
   ]
  },
  {
   "cell_type": "code",
   "execution_count": 234,
   "id": "defb9fa6",
   "metadata": {},
   "outputs": [
    {
     "data": {
      "text/plain": [
       "[0.2838080537355445,\n",
       " 0.13182476537350318,\n",
       " 0.3084770150415945,\n",
       " 0.27405024446209847,\n",
       " 0.26684385585469794,\n",
       " 0.2746936658114727,\n",
       " 0.27405024446209847,\n",
       " 0.08779508184965756,\n",
       " 0.26539362802232347]"
      ]
     },
     "execution_count": 234,
     "metadata": {},
     "output_type": "execute_result"
    }
   ],
   "source": [
    "mvals+=[np.max(G['val_matrix'])]\n",
    "mvals"
   ]
  },
  {
   "cell_type": "code",
   "execution_count": 78,
   "id": "e0433986",
   "metadata": {},
   "outputs": [
    {
     "data": {
      "text/plain": [
       "0.3084770150415945"
      ]
     },
     "execution_count": 78,
     "metadata": {},
     "output_type": "execute_result"
    }
   ],
   "source": [
    "#mval = np.max(mvals)\n",
    "mval"
   ]
  },
  {
   "cell_type": "code",
   "execution_count": 7,
   "id": "8f3cdad0",
   "metadata": {},
   "outputs": [],
   "source": [
    "bad_edges = {}"
   ]
  },
  {
   "cell_type": "code",
   "execution_count": 8,
   "id": "ef08450d",
   "metadata": {},
   "outputs": [
    {
     "data": {
      "text/plain": [
       "{}"
      ]
     },
     "execution_count": 8,
     "metadata": {},
     "output_type": "execute_result"
    }
   ],
   "source": [
    "bad_edges"
   ]
  },
  {
   "cell_type": "code",
   "execution_count": 235,
   "id": "9ed92dc7",
   "metadata": {},
   "outputs": [],
   "source": [
    "f=F[i].split('_')\n",
    "inst = f[0]\n",
    "model = f[1]\n",
    "run = f[2].split('-')[0]\n",
    "SN = f[3][2:]\n",
    "knn = f[4][3:]\n",
    "p=f[5][1:]\n",
    "t=\"{}: knn = 0.{}, SN = {}, p = {}\".format(inst, knn, SN, p)"
   ]
  },
  {
   "cell_type": "code",
   "execution_count": 285,
   "id": "de6020fc",
   "metadata": {},
   "outputs": [],
   "source": [
    "x_vals = {'NA':5, 'md':5}\n",
    "x_vals.update(dict.fromkeys(['EN', 'Pc'],2)) #Pacific, Winter and Summer\n",
    "x_vals.update(dict.fromkeys(['TT'], 3))\n",
    "x_vals.update(dict.fromkeys(['pr'], 4))\n",
    "x_vals.update(dict.fromkeys(['GG', 'SA'],3)) #South Atlantic, Spring and Summer\n",
    "x_vals.update(dict.fromkeys(['AMM', 'TA'],4)) #Tropical Atlantic, Spring and Summer\n",
    "x_vals.update(dict.fromkeys(['GT'],2)) #extras\n",
    "x_vals.update(dict.fromkeys(['IN'], 2.3))\n",
    "EXTRA = ['SB', 'Ph', 'L'] #usually not included\n",
    "x_vals.update({EXTRA[i]:(i+6) for i in range(len(EXTRA))})\n",
    "y_vals = {'EN':4.5, 'GT':2, 'TT':2.3, 'pr':1} #Winter and extras\n",
    "y_vals.update(dict.fromkeys(['GG', 'AMM'],4.5)) #Spring\n",
    "su_basins_full = ['Pc', 'SA', 'TA', 'NA', 'md', 'SB', 'IN', 'Ph', 'L']"
   ]
  },
  {
   "cell_type": "code",
   "execution_count": 289,
   "id": "fa12aa67",
   "metadata": {},
   "outputs": [
    {
     "data": {
      "image/png": "[encoded data removed]",
      "text/plain": [
       "<Figure size 648x432 with 3 Axes>"
      ]
     },
     "metadata": {},
     "output_type": "display_data"
    }
   ],
   "source": [
    "su_basins = [vn for vn in su_basins_full if vn in G['var_names']]\n",
    "r = len(su_basins)\n",
    "y_vals.update({b:((r**2-(x_vals.get(b)-(r+1)/2)**2)**.5)-np.min([((3*r**2 + 2*r - 1)**.5)/2,r])+3 for b in su_basins})#\n",
    "#x_vals.update({'GT':x_vals.get('GT')+.1})\n",
    "#x_vals.update({'AMM':x_vals.get('AMM')-.3})\n",
    "\n",
    "#For NCAR:\n",
    "#y_vals.update({'md':y_vals.get('pr')})\n",
    "#y_vals.update({'IN':y_vals.get('GT')})\n",
    "#x_vals.update({'AMM':x_vals.get('IN')})\n",
    "#y_vals.update({'NA':y_vals.get('Pc')})\n",
    "#y_vals.update({'TA':y_vals.get('TA')+.2})\n",
    "\n",
    "#For MRI:\n",
    "#y_vals.update({'md':y_vals.get('Pc')})\n",
    "#y_vals.update({'NA':y_vals.get('GT')})\n",
    "#y_vals.update({'AMM':y_vals.get('EN')})\n",
    "\n",
    "#For NCAR-TT:\n",
    "#x_vals.update({'AMM':x_vals.get('AMM')-.3})\n",
    "\n",
    "#For CCCma:\n",
    "y_vals.update({'md':2})\n",
    "y_vals.update({'GG':2})\n",
    "\n",
    "x_vals.update({'Pc':3})\n",
    "\n",
    "x = [x_vals.get(vn) for vn in G['var_names']]\n",
    "y = [y_vals.get(vn) for vn in G['var_names']]\n",
    "P=tp.plot_graph(\n",
    "    G['graph'], \n",
    "    val_matrix=G['val_matrix'], \n",
    "    var_names=G['var_names'], \n",
    "    node_pos={'x':x, 'y':list(y)}, \n",
    "    arrow_linewidth=5, \n",
    "    figsize=(9,6),\n",
    "    node_colorbar_label=\"CMI test statistic\",\n",
    "    link_colorbar_label=\"CMI test statistic\",\n",
    "    vmin_edges=0,\n",
    "    vmax_edges = mval,\n",
    "    vmax_nodes = mval,\n",
    "    edge_ticks = round(10*mval)/30,\n",
    "    node_ticks = round(10*mval)/30,\n",
    "    cmap_edges=\"OrRd\",\n",
    "    node_size=.5,\n",
    "    tick_label_size=10,\n",
    ")\n",
    "P[0].suptitle(t)\n",
    "P[0].set_facecolor('lightgray')"
   ]
  },
  {
   "cell_type": "code",
   "execution_count": 267,
   "id": "a787b6e5",
   "metadata": {},
   "outputs": [],
   "source": [
    "x_vals = {'NA':4, 'md':5}\n",
    "x_vals.update(dict.fromkeys(['EN', 'Pc'],1)) #Pacific, Winter and Summer\n",
    "x_vals.update(dict.fromkeys(['GG', 'SA', 'TT'],2)) #South Atlantic, Spring and Summer\n",
    "x_vals.update(dict.fromkeys(['AMM', 'TA'],3)) #Tropical Atlantic, Spring and Summer\n",
    "x_vals.update(dict.fromkeys(['GT', 'pr'],2)) #extras\n",
    "x_vals.update(dict.fromkeys(['IN'], 0))\n",
    "EXTRA = ['SB', 'Ph', 'L'] #usually not included\n",
    "x_vals.update({EXTRA[i]:(i+6) for i in range(len(EXTRA))})\n",
    "y_vals = {'EN':5.5, 'GT':2, 'TT':1, 'pr':0} #Winter and extras\n",
    "y_vals.update(dict.fromkeys(['GG', 'AMM'],4.5)) #Spring\n",
    "su_basins_full = ['Pc', 'SA', 'TA', 'NA', 'md', 'SB', 'IN', 'Ph', 'L']\n",
    "\n",
    "\n",
    "x_vals.update(dict.fromkeys(['pr'],3))\n",
    "y_vals.update(dict.fromkeys(['pr'], 1))\n",
    "x_vals.update(dict.fromkeys(['TT'], 1.5))"
   ]
  },
  {
   "cell_type": "code",
   "execution_count": 291,
   "id": "54a58af2",
   "metadata": {},
   "outputs": [],
   "source": [
    " P[0].savefig(fldr+'/'+F[i])"
   ]
  },
  {
   "cell_type": "code",
   "execution_count": 290,
   "id": "f7493d1f",
   "metadata": {},
   "outputs": [
    {
     "data": {
      "text/plain": [
       "'new_bests/CCCma_CanESM5_r1i1p2f1_SN22_knn15_p2_tm1'"
      ]
     },
     "execution_count": 290,
     "metadata": {},
     "output_type": "execute_result"
    }
   ],
   "source": [
    "fldr+'/'+F[i]"
   ]
  },
  {
   "cell_type": "code",
   "execution_count": 174,
   "id": "2cf11fec",
   "metadata": {},
   "outputs": [],
   "source": [
    "i=i+1"
   ]
  },
  {
   "cell_type": "code",
   "execution_count": 307,
   "id": "fab3ea05",
   "metadata": {},
   "outputs": [],
   "source": [
    "size = P[0].get_size_inches()"
   ]
  },
  {
   "cell_type": "code",
   "execution_count": 308,
   "id": "21f3b824",
   "metadata": {},
   "outputs": [
    {
     "data": {
      "text/plain": [
       "array([6., 4.])"
      ]
     },
     "execution_count": 308,
     "metadata": {},
     "output_type": "execute_result"
    }
   ],
   "source": [
    "size"
   ]
  },
  {
   "cell_type": "code",
   "execution_count": 309,
   "id": "b36e510d",
   "metadata": {},
   "outputs": [
    {
     "data": {
      "text/plain": [
       "72.0"
      ]
     },
     "execution_count": 309,
     "metadata": {},
     "output_type": "execute_result"
    }
   ],
   "source": [
    "P[0].dpi"
   ]
  },
  {
   "cell_type": "code",
   "execution_count": null,
   "id": "29700822",
   "metadata": {},
   "outputs": [],
   "source": []
  }
 ],
 "metadata": {
  "kernelspec": {
   "display_name": "py39",
   "language": "python",
   "name": "py39"
  },
  "language_info": {
   "codemirror_mode": {
    "name": "ipython",
    "version": 3
   },
   "file_extension": ".py",
   "mimetype": "text/x-python",
   "name": "python",
   "nbconvert_exporter": "python",
   "pygments_lexer": "ipython3",
   "version": "3.9.7"
  }
 },
 "nbformat": 4,
 "nbformat_minor": 5
}
